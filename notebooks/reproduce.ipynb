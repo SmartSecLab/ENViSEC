{
 "cells": [
  {
   "cell_type": "code",
   "execution_count": 55,
   "metadata": {},
   "outputs": [],
   "source": [
    "import pandas as pd \n",
    "from collections import Counter\n",
    "import numpy as np\n",
    "from imblearn.over_sampling import RandomOverSampler\n",
    "from imblearn.under_sampling import RandomUnderSampler\n",
    "from collections import Counter\n",
    "from imblearn.under_sampling import NearMiss\n",
    "from imblearn.over_sampling import SMOTE"
   ]
  },
  {
   "cell_type": "code",
   "execution_count": 56,
   "metadata": {},
   "outputs": [],
   "source": [
    "train_data = '/home/gubh001/ENViSEC/data/processed/IoT-23.csv'\n",
    "raw_data = '/home/gubh001/ENViSEC/data/raw/IoT-23.csv'\n",
    "# norm_data = '/home/gubh001/ENViSEC/data/normalized/IoT-23.csv'\n",
    "norm_data = '/home/gubh001/ENViSEC/data/normalized/IoT-23-no-histry.csv'\n",
    "processed_data = '/home/gubh001/ENViSEC/data/processed/IoT-23-no-histry.csv'\n",
    "\n",
    "df_train = pd.read_csv(train_data)\n",
    "# df_raw = pd.read_csv(raw_data)\n",
    "# df_norm = pd.read_csv(norm_data)\n",
    "processed_labels = dict(df_train.multi_label.value_counts())"
   ]
  },
  {
   "cell_type": "code",
   "execution_count": 59,
   "metadata": {},
   "outputs": [
    {
     "data": {
      "text/plain": [
       "266862"
      ]
     },
     "execution_count": 59,
     "metadata": {},
     "output_type": "execute_result"
    }
   ],
   "source": [
    "# df_norm = pd.read_csv(norm_data)\n",
    "df_process = pd.read_csv(processed_data)\n",
    "\n",
    "d = dict(Counter(list(df_process.multi_label)))\n",
    "df_process = df_process[df_process.multi_label.isin([x for x in d if d[x]>1000])].reset_index(drop=True)\n",
    "X= df_process.iloc[:, :-1].values\n",
    "y = df_process.iloc[:, -1].values\n",
    "mean = int(df_process.multi_label.value_counts().mean())\n",
    "mean"
   ]
  },
  {
   "cell_type": "code",
   "execution_count": 54,
   "metadata": {},
   "outputs": [],
   "source": [
    "df_test = pd.read_csv('/home/gubh001/ENViSEC/data/processed/IoT-23-cols-30.csv')"
   ]
  },
  {
   "cell_type": "code",
   "execution_count": 74,
   "metadata": {},
   "outputs": [
    {
     "name": "stdout",
     "output_type": "stream",
     "text": [
      "\n",
      "Undersampling the majority classes...\n",
      "\t {'DDoS': 14707, 'PartOfAHorizontalPortScan': 14707}\n",
      "\n",
      "Oversampling the majority classes...\n",
      "\t {'Attack': 14707, 'C&C-HeartBeat': 14707, 'C&C': 14707}\n"
     ]
    },
    {
     "data": {
      "text/plain": [
       "<AxesSubplot:>"
      ]
     },
     "execution_count": 74,
     "metadata": {},
     "output_type": "execute_result"
    },
    {
     "data": {
      "image/png": "[encoded data removed]",
      "text/plain": [
       "<Figure size 432x288 with 1 Axes>"
      ]
     },
     "metadata": {
      "needs_background": "light"
     },
     "output_type": "display_data"
    }
   ],
   "source": [
    "def sampling_strategy(X,y,n_samples, t='majority'):\n",
    "    # undersample if the majority class is greater than mean value \n",
    "    # reference: https://towardsdatascience.com/how-to-deal-with-imbalanced-multiclass-datasets-in-python-fe0bb3f2b669\n",
    "    target_classes = ''\n",
    "    sampling_strategy = {}\n",
    "\n",
    "    if t == 'majority':\n",
    "        print('\\nUndersampling the majority classes...')\n",
    "        target_classes = y.value_counts() > n_samples\n",
    "    elif t == 'minority':\n",
    "        print('\\nOversampling the majority classes...')\n",
    "        target_classes = y.value_counts() < n_samples\n",
    "\n",
    "    tc = target_classes[target_classes == True].index\n",
    " \n",
    "    for target in tc:\n",
    "        sampling_strategy[target] = n_samples\n",
    "\n",
    "    # not applying undersampling to 'benign' class\n",
    "    if 'benign' in sampling_strategy:\n",
    "        sampling_strategy.pop('benign')  \n",
    "\n",
    "    print('\\t', sampling_strategy)\n",
    "    return sampling_strategy\n",
    "\n",
    "\n",
    "def apply_balancer(X, y):\n",
    "    #     \"\"\"\n",
    "    #     apply class balancer(s) to equalize the number of samples into difference labels. \n",
    "    #     \"\"\"\n",
    "    count = pd.Series(Counter(y))\n",
    "    n_samples  = count.median().astype(np.int64)\n",
    "\n",
    "    under_sampler = RandomUnderSampler(sampling_strategy=sampling_strategy(X, pd.Series(y), n_samples, t='majority'))\n",
    "    X_under, y_under = under_sampler.fit_resample(X, y)\n",
    "\n",
    "    over_sampler = SMOTE(sampling_strategy=sampling_strategy(X_under, pd.Series(y_under), n_samples, t='minority'))\n",
    "    X_bal, y_bal = over_sampler.fit_resample(X_under, y_under)\n",
    "    return X_bal, y_bal\n",
    "\n",
    "X_bal, y_bal = apply_balancer(X, y)\n",
    "\n",
    "pd.Series(Counter(y_bal)).plot.barh()"
   ]
  },
  {
   "cell_type": "code",
   "execution_count": 83,
   "metadata": {},
   "outputs": [
    {
     "data": {
      "image/png": "[encoded data removed]",
      "text/plain": [
       "<Figure size 432x288 with 1 Axes>"
      ]
     },
     "metadata": {
      "needs_background": "light"
     },
     "output_type": "display_data"
    }
   ],
   "source": [
    "import matplotlib.pyplot as plt \n",
    "\n",
    "fig, ax = plt.subplots(figsize =(6, 4))\n",
    "ax = pd.Series(Counter(y_bal)).plot.barh(x='#samples', y='labels')\n",
    "ax.set_ylabel('Labels', fontsize=14)\n",
    "ax.set_xlabel('#Samples', fontsize=14)\n",
    "plt.box(False)\n",
    "plt.show()\n",
    "fig.savefig('../figures/labels_frequency_balanced-under_over.png', bbox_inches='tight')"
   ]
  },
  {
   "cell_type": "code",
   "execution_count": 73,
   "metadata": {},
   "outputs": [
    {
     "data": {
      "text/plain": [
       "44121"
      ]
     },
     "execution_count": 73,
     "metadata": {},
     "output_type": "execute_result"
    }
   ],
   "source": [
    "count.median().astype(np.int64) * 3"
   ]
  },
  {
   "cell_type": "code",
   "execution_count": 3,
   "metadata": {},
   "outputs": [
    {
     "ename": "ModuleNotFoundError",
     "evalue": "No module named 'src'",
     "output_type": "error",
     "traceback": [
      "\u001b[0;31m---------------------------------------------------------------------------\u001b[0m",
      "\u001b[0;31mModuleNotFoundError\u001b[0m                       Traceback (most recent call last)",
      "\u001b[1;32m/Users/guru/Library/CloudStorage/OneDrive-HøyskolenKristiania/guru_shared/ENViSEC-dev/notebooks/reproduce.ipynb Cell 8\u001b[0m in \u001b[0;36m<cell line: 3>\u001b[0;34m()\u001b[0m\n\u001b[1;32m      <a href='vscode-notebook-cell:/Users/guru/Library/CloudStorage/OneDrive-H%C3%B8yskolenKristiania/guru_shared/ENViSEC-dev/notebooks/reproduce.ipynb#X10sZmlsZQ%3D%3D?line=0'>1</a>\u001b[0m \u001b[39mimport\u001b[39;00m \u001b[39mthreading\u001b[39;00m\n\u001b[1;32m      <a href='vscode-notebook-cell:/Users/guru/Library/CloudStorage/OneDrive-H%C3%B8yskolenKristiania/guru_shared/ENViSEC-dev/notebooks/reproduce.ipynb#X10sZmlsZQ%3D%3D?line=1'>2</a>\u001b[0m \u001b[39mfrom\u001b[39;00m \u001b[39murllib\u001b[39;00m\u001b[39m.\u001b[39;00m\u001b[39mrequest\u001b[39;00m \u001b[39mimport\u001b[39;00m urlopen\n\u001b[0;32m----> <a href='vscode-notebook-cell:/Users/guru/Library/CloudStorage/OneDrive-H%C3%B8yskolenKristiania/guru_shared/ENViSEC-dev/notebooks/reproduce.ipynb#X10sZmlsZQ%3D%3D?line=2'>3</a>\u001b[0m \u001b[39mfrom\u001b[39;00m \u001b[39msrc\u001b[39;00m\u001b[39m.\u001b[39;00m\u001b[39mutility\u001b[39;00m \u001b[39mimport\u001b[39;00m load_config\n\u001b[1;32m      <a href='vscode-notebook-cell:/Users/guru/Library/CloudStorage/OneDrive-H%C3%B8yskolenKristiania/guru_shared/ENViSEC-dev/notebooks/reproduce.ipynb#X10sZmlsZQ%3D%3D?line=3'>4</a>\u001b[0m \u001b[39mfrom\u001b[39;00m \u001b[39mthreading\u001b[39;00m \u001b[39mimport\u001b[39;00m Timer, Thread, Event\n\u001b[1;32m      <a href='vscode-notebook-cell:/Users/guru/Library/CloudStorage/OneDrive-H%C3%B8yskolenKristiania/guru_shared/ENViSEC-dev/notebooks/reproduce.ipynb#X10sZmlsZQ%3D%3D?line=6'>7</a>\u001b[0m \u001b[39mdef\u001b[39;00m \u001b[39mget_response\u001b[39m(url):\n",
      "\u001b[0;31mModuleNotFoundError\u001b[0m: No module named 'src'"
     ]
    }
   ],
   "source": [
    "import threading\n",
    "from urllib.request import urlopen\n",
    "from src.utility import load_config\n",
    "from .src/utility import load_config\n",
    "from threading import Timer, Thread, Event\n",
    "\n",
    "\n",
    "def get_response(url):\n",
    "  \"\"\"\n",
    "  get the response from the url\n",
    "  \"\"\"\n",
    "  timer = Timer(time_sec, get_response, args=(host_url,)).start()\n",
    "  feed = urlopen(url)\n",
    "  print(str(feed.read()))\n",
    "  \n",
    "\n",
    "config = load_config('predict.yaml')\n",
    "host_url = config['host']\n",
    "time_sec = config['time'] # run itself again after specified seconds\n",
    "get_response(host_url)\n"
   ]
  },
  {
   "cell_type": "code",
   "execution_count": 8,
   "metadata": {},
   "outputs": [
    {
     "ename": "SyntaxError",
     "evalue": "invalid syntax (399204665.py, line 1)",
     "output_type": "error",
     "traceback": [
      "\u001b[0;36m  Input \u001b[0;32mIn [8]\u001b[0;36m\u001b[0m\n\u001b[0;31m    import ..src\u001b[0m\n\u001b[0m           ^\u001b[0m\n\u001b[0;31mSyntaxError\u001b[0m\u001b[0;31m:\u001b[0m invalid syntax\n"
     ]
    }
   ],
   "source": [
    "import ..src"
   ]
  }
 ],
 "metadata": {
  "kernelspec": {
   "display_name": "Python 3.8.0 ('envisec')",
   "language": "python",
   "name": "python3"
  },
  "language_info": {
   "codemirror_mode": {
    "name": "ipython",
    "version": 3
   },
   "file_extension": ".py",
   "mimetype": "text/x-python",
   "name": "python",
   "nbconvert_exporter": "python",
   "pygments_lexer": "ipython3",
   "version": "3.8.0"
  },
  "orig_nbformat": 4,
  "vscode": {
   "interpreter": {
    "hash": "4af36f3ca596f5e8cc36ab3ac42c172155e6daf6ffe02a489c4457447e26849d"
   }
  }
 },
 "nbformat": 4,
 "nbformat_minor": 2
}
