{
 "cells": [
  {
   "cell_type": "code",
   "execution_count": 2,
   "metadata": {},
   "outputs": [],
   "source": [
    "import pandas as pd\n",
    "\n",
    "df = pd.read_csv('../data/AIoT-Sol.csv')"
   ]
  },
  {
   "cell_type": "code",
   "execution_count": 9,
   "metadata": {},
   "outputs": [
    {
     "data": {
      "text/plain": [
       "Benign                    2403450\n",
       "SynFlood                  1000000\n",
       "SSDP                       970418\n",
       "MqttBruteForce             482553\n",
       "NetworkScanning            105417\n",
       "XXE                         47459\n",
       "NetworkLogonBruteForce      44915\n",
       "DirectoryBruteForce         23031\n",
       "SQLInjection                16046\n",
       "CommandInjection            12894\n",
       "SslRegeneration             10454\n",
       "XSRF                         5117\n",
       "DirectoryTraversal           4998\n",
       "XSS                          2676\n",
       "ArpPoisoning                 2307\n",
       "SSRF                         1756\n",
       "OpenRedirect                 1237\n",
       "Name: Label, dtype: int64"
      ]
     },
     "execution_count": 9,
     "metadata": {},
     "output_type": "execute_result"
    }
   ],
   "source": [
    "df.Label.value_counts()"
   ]
  }
 ],
 "metadata": {
  "kernelspec": {
   "display_name": "Python 3.8.0 ('envisec')",
   "language": "python",
   "name": "python3"
  },
  "language_info": {
   "codemirror_mode": {
    "name": "ipython",
    "version": 3
   },
   "file_extension": ".py",
   "mimetype": "text/x-python",
   "name": "python",
   "nbconvert_exporter": "python",
   "pygments_lexer": "ipython3",
   "version": "3.8.0"
  },
  "orig_nbformat": 4,
  "vscode": {
   "interpreter": {
    "hash": "4af36f3ca596f5e8cc36ab3ac42c172155e6daf6ffe02a489c4457447e26849d"
   }
  }
 },
 "nbformat": 4,
 "nbformat_minor": 2
}
